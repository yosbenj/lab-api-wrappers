{
 "cells": [
  {
   "cell_type": "markdown",
   "id": "c70cb6fb",
   "metadata": {},
   "source": [
    "# Lab | API wrappers - Create your collection of songs & audio features\n",
    "#### Instructions\n",
    "To move forward with the project, you need to create a collection of songs with their audio features - as large as possible!\n",
    "\n",
    "These are the songs that we will cluster. And, later, when the user inputs a song, we will find the cluster to which the song belongs and recommend a song from the same cluster. The more songs you have, the more accurate and diverse recommendations you'll be able to give. Although... you might want to make sure the collected songs are \"curated\" in a certain way. Try to find playlists of songs that are diverse, but also that meet certain standards.\n",
    "\n",
    "The process of sending hundreds or thousands of requests can take some time - it's normal if you have to wait a few minutes (or, if you're ambitious, even hours) to get all the data you need.\n",
    "\n",
    "An idea for collecting as many songs as possible is to start with all the songs of a big, diverse playlist and then go to every artist present in the playlist and grab every song of every album of that artist. The amount of songs you'll be collecting per playlist will grow exponentially!"
   ]
  },
  {
   "cell_type": "markdown",
   "id": "8a4d2443",
   "metadata": {},
   "source": [
    "# Set Up and Authentication"
   ]
  },
  {
   "cell_type": "code",
   "execution_count": 1,
   "id": "6ef7313c",
   "metadata": {},
   "outputs": [],
   "source": [
    "import spotipy\n",
    "from spotipy.oauth2 import SpotifyClientCredentials\n",
    "import pandas as pd\n",
    "from random import randint\n",
    "from time import sleep\n",
    "from itertools import islice\n",
    "from pandas import json_normalize"
   ]
  },
  {
   "cell_type": "code",
   "execution_count": 2,
   "id": "ebaa0e9d",
   "metadata": {},
   "outputs": [],
   "source": [
    "secrets_file = open(\"secrets.txt\",\"r\")"
   ]
  },
  {
   "cell_type": "code",
   "execution_count": 3,
   "id": "5c6dab24",
   "metadata": {},
   "outputs": [],
   "source": [
    "string = secrets_file.read()\n",
    "#string"
   ]
  },
  {
   "cell_type": "code",
   "execution_count": 33,
   "id": "8029ca0c",
   "metadata": {},
   "outputs": [],
   "source": [
    "#string.split('\\n')"
   ]
  },
  {
   "cell_type": "code",
   "execution_count": 5,
   "id": "cd0a3d26",
   "metadata": {},
   "outputs": [],
   "source": [
    "secrets_dict={}\n",
    "for line in string.split('\\n'):\n",
    "    if len(line) > 0:\n",
    "        #print(line.split(':'))\n",
    "        secrets_dict[line.split(':')[0]]=line.split(':')[1].strip()\n",
    "        \n",
    "#secrets_dict"
   ]
  },
  {
   "cell_type": "code",
   "execution_count": 6,
   "id": "855863bd",
   "metadata": {},
   "outputs": [],
   "source": [
    "#Initialize SpotiPy with user credentials\n",
    "sp = spotipy.Spotify(auth_manager=SpotifyClientCredentials(client_id=secrets_dict['clientid'],\n",
    "                                                           client_secret=secrets_dict['clientsecret']))"
   ]
  },
  {
   "cell_type": "markdown",
   "id": "eb3b0e6c",
   "metadata": {},
   "source": [
    "# Access the Playlist and Retrieve Track IDs\n",
    "\n",
    "Fetch the playlist and get the IDs of all the tracks in it. This playlist is large, so we'll have to handle pagination."
   ]
  },
  {
   "cell_type": "code",
   "execution_count": 7,
   "id": "d921a3f7",
   "metadata": {},
   "outputs": [],
   "source": [
    "# Getting the playlist\n",
    "playlist = sp.user_playlist_tracks(\"spotify\", \"5S8SJdl1BDc0ugpkEvFsIL\")\n",
    "#playlist"
   ]
  },
  {
   "cell_type": "code",
   "execution_count": 8,
   "id": "dabeca89",
   "metadata": {
    "scrolled": true
   },
   "outputs": [
    {
     "data": {
      "text/plain": [
       "10000"
      ]
     },
     "execution_count": 8,
     "metadata": {},
     "output_type": "execute_result"
    }
   ],
   "source": [
    "playlist[\"total\"]"
   ]
  },
  {
   "cell_type": "markdown",
   "id": "592664fe",
   "metadata": {},
   "source": [
    "There are 10000 tracks in total."
   ]
  },
  {
   "cell_type": "code",
   "execution_count": 9,
   "id": "0ea39d25",
   "metadata": {},
   "outputs": [
    {
     "data": {
      "text/plain": [
       "100"
      ]
     },
     "execution_count": 9,
     "metadata": {},
     "output_type": "execute_result"
    }
   ],
   "source": [
    "len(playlist[\"items\"])"
   ]
  },
  {
   "cell_type": "markdown",
   "id": "70ca6e15",
   "metadata": {},
   "source": [
    "There are 100 track items in the current retrieved list."
   ]
  },
  {
   "cell_type": "code",
   "execution_count": 10,
   "id": "9c34644e",
   "metadata": {},
   "outputs": [
    {
     "data": {
      "text/plain": [
       "dict_keys(['href', 'items', 'limit', 'next', 'offset', 'previous', 'total'])"
      ]
     },
     "execution_count": 10,
     "metadata": {},
     "output_type": "execute_result"
    }
   ],
   "source": [
    "# Look at items and total:\n",
    "playlist.keys() "
   ]
  },
  {
   "cell_type": "markdown",
   "id": "cb68c722",
   "metadata": {},
   "source": [
    "Each key represents a different piece of information about the playlist."
   ]
  },
  {
   "cell_type": "code",
   "execution_count": 11,
   "id": "17b43a22",
   "metadata": {},
   "outputs": [
    {
     "data": {
      "text/plain": [
       "dict_keys(['added_at', 'added_by', 'is_local', 'primary_color', 'track', 'video_thumbnail'])"
      ]
     },
     "execution_count": 11,
     "metadata": {},
     "output_type": "execute_result"
    }
   ],
   "source": [
    "playlist[\"items\"][0].keys()"
   ]
  },
  {
   "cell_type": "markdown",
   "id": "a9507826",
   "metadata": {},
   "source": [
    "These keys represent various attributes of a track."
   ]
  },
  {
   "cell_type": "code",
   "execution_count": 12,
   "id": "9956fbf4",
   "metadata": {
    "scrolled": true
   },
   "outputs": [],
   "source": [
    "# Accessing the first item from a list of tracks in the playlist dictionary\n",
    "# Then further access the details of the track\n",
    "\n",
    "#playlist[\"items\"][0][\"track\"]"
   ]
  },
  {
   "cell_type": "markdown",
   "id": "e9c75148",
   "metadata": {},
   "source": [
    "Dictionary with several key-value pairs that provide detailed information about the track."
   ]
  },
  {
   "cell_type": "code",
   "execution_count": 13,
   "id": "cadf2155",
   "metadata": {
    "scrolled": true
   },
   "outputs": [
    {
     "data": {
      "text/plain": [
       "dict_keys(['album', 'artists', 'available_markets', 'disc_number', 'duration_ms', 'episode', 'explicit', 'external_ids', 'external_urls', 'href', 'id', 'is_local', 'name', 'popularity', 'preview_url', 'track', 'track_number', 'type', 'uri'])"
      ]
     },
     "execution_count": 13,
     "metadata": {},
     "output_type": "execute_result"
    }
   ],
   "source": [
    "# Retrieving all the keys from the track's details dictionary\n",
    "playlist[\"items\"][0][\"track\"].keys()"
   ]
  },
  {
   "cell_type": "markdown",
   "id": "a351b00e",
   "metadata": {},
   "source": [
    "These keys represent the various properties of the track that can be accessed."
   ]
  },
  {
   "cell_type": "markdown",
   "id": "7dd398dd",
   "metadata": {},
   "source": [
    "# Retrieve Track Details and Audio Features\n",
    "\n",
    "For each track, we'll get its details and audio features."
   ]
  },
  {
   "cell_type": "markdown",
   "id": "3a39b1b8",
   "metadata": {},
   "source": [
    "1. We will iterate over the playlist, putting all songs into a list.\n",
    "2. We will pull out the desired features into a dataframe.\n",
    "3. We will get the audiofeatures for all songs in the dataframe.\n",
    "\n",
    "We create a dataframe, where we will finally store our songs.\n",
    "\n",
    "columns = ['id','title','artist_name','artist_id,'album','length','explicit']"
   ]
  },
  {
   "cell_type": "markdown",
   "id": "1ca739c9",
   "metadata": {},
   "source": [
    "## 1. Iterating over the playlist, pulling all songs out."
   ]
  },
  {
   "cell_type": "code",
   "execution_count": 14,
   "id": "1f1f3f97",
   "metadata": {},
   "outputs": [],
   "source": [
    "def get_playlist_tracks(playlist_id):\n",
    "    \"\"\"\n",
    "    Retrieves all tracks from a Spotify playlist.\n",
    "\n",
    "    Args:\n",
    "        playlist_id (str): The unique identifier of the playlist.\n",
    "\n",
    "    Returns:\n",
    "        list: A list of dictionaries, where each dictionary represents a track in the playlist.\n",
    "    \"\"\"\n",
    "    results = sp.user_playlist_tracks(\"spotify\", playlist_id)\n",
    "    tracks = results['items']\n",
    "    while results['next'] is not None:\n",
    "        results = sp.next(results)\n",
    "        tracks = tracks + results['items']\n",
    "        sleep(randint(1, 3))  # Respectful nap\n",
    "        \n",
    "    return tracks"
   ]
  },
  {
   "cell_type": "code",
   "execution_count": 15,
   "id": "ffb0cfeb",
   "metadata": {},
   "outputs": [
    {
     "data": {
      "text/plain": [
       "10000"
      ]
     },
     "execution_count": 15,
     "metadata": {},
     "output_type": "execute_result"
    }
   ],
   "source": [
    "playlist = get_playlist_tracks('5S8SJdl1BDc0ugpkEvFsIL')\n",
    "len(playlist)"
   ]
  },
  {
   "cell_type": "markdown",
   "id": "420c22d3",
   "metadata": {},
   "source": [
    "### Getting all the song features from the playlist"
   ]
  },
  {
   "cell_type": "code",
   "execution_count": 16,
   "id": "8380d0ea",
   "metadata": {},
   "outputs": [],
   "source": [
    "def get_name_artists_from_track(track):\n",
    "    \"\"\"\n",
    "    Extracts the names of artists from a track dictionary.\n",
    "\n",
    "    Args:\n",
    "        track (dict): A dictionary representing a music track, including artist details.\n",
    "\n",
    "    Returns:\n",
    "        list: A list of artist names associated with the track.\n",
    "    \"\"\"\n",
    "    \n",
    "    return [artist[\"name\"] for artist in track[\"artists\"]]"
   ]
  },
  {
   "cell_type": "code",
   "execution_count": 17,
   "id": "65c4575b",
   "metadata": {},
   "outputs": [],
   "source": [
    "# Same for artist id\n",
    "def get_name_artists_id_from_track(track):\n",
    "    return [artist[\"id\"] for artist in track[\"artists\"]]"
   ]
  },
  {
   "cell_type": "code",
   "execution_count": 18,
   "id": "01cb0e48",
   "metadata": {},
   "outputs": [],
   "source": [
    "def get_tracks(playlist):\n",
    "    \"\"\"\n",
    "    Extracts detailed information from a list of track dictionaries in a playlist.\n",
    "\n",
    "    Args:\n",
    "        playlist (list): A list of dictionaries, where each dictionary represents a music track.\n",
    "\n",
    "    Returns:\n",
    "        list: A list of lists, where each inner list represents detailed information about a track.\n",
    "    \"\"\"\n",
    "    tracklist = []\n",
    "    for i in range(len(playlist)):\n",
    "        # Extract specific track details and append them to the tracklist\n",
    "        # (Include details like URI, name, artist, album, duration, explicitness, and popularity)\n",
    "        tracklist.append([\n",
    "            playlist[i]['track']['uri'],\n",
    "            playlist[i]['track']['name'],\n",
    "            get_name_artists_from_track(playlist[i]['track'])[0],\n",
    "            get_name_artists_id_from_track(playlist[i]['track'])[0],\n",
    "            playlist[i]['track']['album']['id'],\n",
    "            playlist[i]['track']['album']['name'],\n",
    "            playlist[i]['track']['duration_ms'],\n",
    "            playlist[i]['track']['explicit'],\n",
    "            playlist[i]['track']['popularity']\n",
    "        ])\n",
    "        \n",
    "    return tracklist"
   ]
  },
  {
   "cell_type": "code",
   "execution_count": 19,
   "id": "a9b0765e",
   "metadata": {},
   "outputs": [],
   "source": [
    "songs = get_tracks(playlist)"
   ]
  },
  {
   "cell_type": "code",
   "execution_count": 20,
   "id": "b1bb27e7",
   "metadata": {},
   "outputs": [
    {
     "data": {
      "text/plain": [
       "10000"
      ]
     },
     "execution_count": 20,
     "metadata": {},
     "output_type": "execute_result"
    }
   ],
   "source": [
    "len(songs)"
   ]
  },
  {
   "cell_type": "markdown",
   "id": "e3144658",
   "metadata": {},
   "source": [
    "## 2. Pulling out the desired features into a dataframe."
   ]
  },
  {
   "cell_type": "code",
   "execution_count": 21,
   "id": "ae7d92a3",
   "metadata": {},
   "outputs": [],
   "source": [
    "df_songs = pd.DataFrame(data = songs, columns = ['uri','title','artist_name','artist_id','album_id','album_name','length','explicit','popularity'])"
   ]
  },
  {
   "cell_type": "code",
   "execution_count": 22,
   "id": "574366f1",
   "metadata": {},
   "outputs": [
    {
     "data": {
      "text/html": [
       "<div>\n",
       "<style scoped>\n",
       "    .dataframe tbody tr th:only-of-type {\n",
       "        vertical-align: middle;\n",
       "    }\n",
       "\n",
       "    .dataframe tbody tr th {\n",
       "        vertical-align: top;\n",
       "    }\n",
       "\n",
       "    .dataframe thead th {\n",
       "        text-align: right;\n",
       "    }\n",
       "</style>\n",
       "<table border=\"1\" class=\"dataframe\">\n",
       "  <thead>\n",
       "    <tr style=\"text-align: right;\">\n",
       "      <th></th>\n",
       "      <th>uri</th>\n",
       "      <th>title</th>\n",
       "      <th>artist_name</th>\n",
       "      <th>artist_id</th>\n",
       "      <th>album_id</th>\n",
       "      <th>album_name</th>\n",
       "      <th>length</th>\n",
       "      <th>explicit</th>\n",
       "      <th>popularity</th>\n",
       "    </tr>\n",
       "  </thead>\n",
       "  <tbody>\n",
       "    <tr>\n",
       "      <th>0</th>\n",
       "      <td>spotify:track:7zgqtptZvhf8GEmdsM2vp2</td>\n",
       "      <td>...Ready For It?</td>\n",
       "      <td>Taylor Swift</td>\n",
       "      <td>06HL4z0CvFAxyc27GXpf02</td>\n",
       "      <td>0HG8fMDhvN2tH5uPHFsyZP</td>\n",
       "      <td>...Ready For It?</td>\n",
       "      <td>208198</td>\n",
       "      <td>False</td>\n",
       "      <td>0</td>\n",
       "    </tr>\n",
       "    <tr>\n",
       "      <th>1</th>\n",
       "      <td>spotify:track:4Vxu50qVrQcycjRyJQaZLC</td>\n",
       "      <td>Life Changes</td>\n",
       "      <td>Thomas Rhett</td>\n",
       "      <td>6x2LnllRG5uGarZMsD4iO8</td>\n",
       "      <td>4w5Jvreahp3yvLqc4vCr9I</td>\n",
       "      <td>Life Changes</td>\n",
       "      <td>190226</td>\n",
       "      <td>False</td>\n",
       "      <td>62</td>\n",
       "    </tr>\n",
       "    <tr>\n",
       "      <th>2</th>\n",
       "      <td>spotify:track:6b8Be6ljOzmkOmFslEb23P</td>\n",
       "      <td>24K Magic</td>\n",
       "      <td>Bruno Mars</td>\n",
       "      <td>0du5cEVh5yTK9QJze8zA0C</td>\n",
       "      <td>4PgleR09JVnm3zY1fW3XBA</td>\n",
       "      <td>24K Magic</td>\n",
       "      <td>225983</td>\n",
       "      <td>False</td>\n",
       "      <td>82</td>\n",
       "    </tr>\n",
       "    <tr>\n",
       "      <th>3</th>\n",
       "      <td>spotify:track:0afhq8XCExXpqazXczTSve</td>\n",
       "      <td>Galway Girl</td>\n",
       "      <td>Ed Sheeran</td>\n",
       "      <td>6eUKZXaKkcviH0Ku9w2n3V</td>\n",
       "      <td>3T4tUhGYeRNVUGevb0wThu</td>\n",
       "      <td>÷ (Deluxe)</td>\n",
       "      <td>170826</td>\n",
       "      <td>False</td>\n",
       "      <td>81</td>\n",
       "    </tr>\n",
       "    <tr>\n",
       "      <th>4</th>\n",
       "      <td>spotify:track:1HNkqx9Ahdgi1Ixy2xkKkL</td>\n",
       "      <td>Photograph</td>\n",
       "      <td>Ed Sheeran</td>\n",
       "      <td>6eUKZXaKkcviH0Ku9w2n3V</td>\n",
       "      <td>1xn54DMo2qIqBuMqHtUsFd</td>\n",
       "      <td>x (Deluxe Edition)</td>\n",
       "      <td>258986</td>\n",
       "      <td>False</td>\n",
       "      <td>87</td>\n",
       "    </tr>\n",
       "  </tbody>\n",
       "</table>\n",
       "</div>"
      ],
      "text/plain": [
       "                                    uri             title   artist_name  \\\n",
       "0  spotify:track:7zgqtptZvhf8GEmdsM2vp2  ...Ready For It?  Taylor Swift   \n",
       "1  spotify:track:4Vxu50qVrQcycjRyJQaZLC      Life Changes  Thomas Rhett   \n",
       "2  spotify:track:6b8Be6ljOzmkOmFslEb23P         24K Magic    Bruno Mars   \n",
       "3  spotify:track:0afhq8XCExXpqazXczTSve       Galway Girl    Ed Sheeran   \n",
       "4  spotify:track:1HNkqx9Ahdgi1Ixy2xkKkL        Photograph    Ed Sheeran   \n",
       "\n",
       "                artist_id                album_id          album_name  length  \\\n",
       "0  06HL4z0CvFAxyc27GXpf02  0HG8fMDhvN2tH5uPHFsyZP    ...Ready For It?  208198   \n",
       "1  6x2LnllRG5uGarZMsD4iO8  4w5Jvreahp3yvLqc4vCr9I        Life Changes  190226   \n",
       "2  0du5cEVh5yTK9QJze8zA0C  4PgleR09JVnm3zY1fW3XBA           24K Magic  225983   \n",
       "3  6eUKZXaKkcviH0Ku9w2n3V  3T4tUhGYeRNVUGevb0wThu          ÷ (Deluxe)  170826   \n",
       "4  6eUKZXaKkcviH0Ku9w2n3V  1xn54DMo2qIqBuMqHtUsFd  x (Deluxe Edition)  258986   \n",
       "\n",
       "   explicit  popularity  \n",
       "0     False           0  \n",
       "1     False          62  \n",
       "2     False          82  \n",
       "3     False          81  \n",
       "4     False          87  "
      ]
     },
     "execution_count": 22,
     "metadata": {},
     "output_type": "execute_result"
    }
   ],
   "source": [
    "df_songs.head()"
   ]
  },
  {
   "cell_type": "code",
   "execution_count": 23,
   "id": "e0ec74f9",
   "metadata": {},
   "outputs": [
    {
     "data": {
      "text/plain": [
       "(10000, 9)"
      ]
     },
     "execution_count": 23,
     "metadata": {},
     "output_type": "execute_result"
    }
   ],
   "source": [
    "df_songs.shape"
   ]
  },
  {
   "cell_type": "markdown",
   "id": "a69dca88",
   "metadata": {},
   "source": [
    "## 3. Getting the audiofeatures for all songs in the dataframe."
   ]
  },
  {
   "cell_type": "code",
   "execution_count": 24,
   "id": "12799cdd",
   "metadata": {},
   "outputs": [],
   "source": [
    "def get_features_delayed(uri):\n",
    "    \"\"\"\n",
    "    Retrieves audio features of a Spotify track using its URI with a respectful delay.\n",
    "\n",
    "    Args:\n",
    "        uri (str): The URI of the Spotify track for which audio features are requested.\n",
    "\n",
    "    Returns:\n",
    "        dict: A dictionary containing audio features of the track.\n",
    "    \"\"\"\n",
    "    sleep(randint(1, 2))  # A respectful nap (waits for 1-2 seconds)\n",
    "    \n",
    "    return sp.audio_features(uri)"
   ]
  },
  {
   "cell_type": "code",
   "execution_count": 25,
   "id": "bf0bfd7a",
   "metadata": {},
   "outputs": [],
   "source": [
    "# Running this takes too long\n",
    "\n",
    "#df_songs['features'] = df_songs['uri'].apply(get_features_delayed).copy()\n",
    "#df_songs"
   ]
  },
  {
   "cell_type": "code",
   "execution_count": 26,
   "id": "32729ef5",
   "metadata": {},
   "outputs": [],
   "source": [
    "#print(get_features_delayed('spotify:track:7zgqtptZvhf8GEmdsM2vp2'))"
   ]
  },
  {
   "cell_type": "markdown",
   "id": "88d70d11",
   "metadata": {},
   "source": [
    "### Feature extraction"
   ]
  },
  {
   "cell_type": "code",
   "execution_count": 27,
   "id": "90236cae",
   "metadata": {},
   "outputs": [],
   "source": [
    "# We have to make the function resilient to errors in case the coinnection breaks\n",
    "def get_features_delayed(uri):\n",
    "    # First we try to get the features\n",
    "    try:\n",
    "        sleep(randint(1,2)) # respectful nap\n",
    "        features = sp.audio_features(uri)\n",
    "    # If it doesnt work we try again, for this we make the function recursive\n",
    "    except:\n",
    "        print('Error occured while getting feature names')\n",
    "        features = get_features_delayed(uri)\n",
    "        \n",
    "    # Finally we return the features\n",
    "    return features"
   ]
  },
  {
   "cell_type": "code",
   "execution_count": 28,
   "id": "e06c5f31",
   "metadata": {},
   "outputs": [
    {
     "data": {
      "text/html": [
       "<div>\n",
       "<style scoped>\n",
       "    .dataframe tbody tr th:only-of-type {\n",
       "        vertical-align: middle;\n",
       "    }\n",
       "\n",
       "    .dataframe tbody tr th {\n",
       "        vertical-align: top;\n",
       "    }\n",
       "\n",
       "    .dataframe thead th {\n",
       "        text-align: right;\n",
       "    }\n",
       "</style>\n",
       "<table border=\"1\" class=\"dataframe\">\n",
       "  <thead>\n",
       "    <tr style=\"text-align: right;\">\n",
       "      <th></th>\n",
       "      <th>uri</th>\n",
       "      <th>title</th>\n",
       "      <th>artist_name</th>\n",
       "      <th>artist_id</th>\n",
       "      <th>album_id</th>\n",
       "      <th>album_name</th>\n",
       "      <th>length</th>\n",
       "      <th>explicit</th>\n",
       "      <th>popularity</th>\n",
       "    </tr>\n",
       "  </thead>\n",
       "  <tbody>\n",
       "    <tr>\n",
       "      <th>0</th>\n",
       "      <td>spotify:track:7zgqtptZvhf8GEmdsM2vp2</td>\n",
       "      <td>...Ready For It?</td>\n",
       "      <td>Taylor Swift</td>\n",
       "      <td>06HL4z0CvFAxyc27GXpf02</td>\n",
       "      <td>0HG8fMDhvN2tH5uPHFsyZP</td>\n",
       "      <td>...Ready For It?</td>\n",
       "      <td>208198</td>\n",
       "      <td>False</td>\n",
       "      <td>0</td>\n",
       "    </tr>\n",
       "    <tr>\n",
       "      <th>1</th>\n",
       "      <td>spotify:track:4Vxu50qVrQcycjRyJQaZLC</td>\n",
       "      <td>Life Changes</td>\n",
       "      <td>Thomas Rhett</td>\n",
       "      <td>6x2LnllRG5uGarZMsD4iO8</td>\n",
       "      <td>4w5Jvreahp3yvLqc4vCr9I</td>\n",
       "      <td>Life Changes</td>\n",
       "      <td>190226</td>\n",
       "      <td>False</td>\n",
       "      <td>62</td>\n",
       "    </tr>\n",
       "    <tr>\n",
       "      <th>2</th>\n",
       "      <td>spotify:track:6b8Be6ljOzmkOmFslEb23P</td>\n",
       "      <td>24K Magic</td>\n",
       "      <td>Bruno Mars</td>\n",
       "      <td>0du5cEVh5yTK9QJze8zA0C</td>\n",
       "      <td>4PgleR09JVnm3zY1fW3XBA</td>\n",
       "      <td>24K Magic</td>\n",
       "      <td>225983</td>\n",
       "      <td>False</td>\n",
       "      <td>82</td>\n",
       "    </tr>\n",
       "    <tr>\n",
       "      <th>3</th>\n",
       "      <td>spotify:track:0afhq8XCExXpqazXczTSve</td>\n",
       "      <td>Galway Girl</td>\n",
       "      <td>Ed Sheeran</td>\n",
       "      <td>6eUKZXaKkcviH0Ku9w2n3V</td>\n",
       "      <td>3T4tUhGYeRNVUGevb0wThu</td>\n",
       "      <td>÷ (Deluxe)</td>\n",
       "      <td>170826</td>\n",
       "      <td>False</td>\n",
       "      <td>81</td>\n",
       "    </tr>\n",
       "    <tr>\n",
       "      <th>4</th>\n",
       "      <td>spotify:track:1HNkqx9Ahdgi1Ixy2xkKkL</td>\n",
       "      <td>Photograph</td>\n",
       "      <td>Ed Sheeran</td>\n",
       "      <td>6eUKZXaKkcviH0Ku9w2n3V</td>\n",
       "      <td>1xn54DMo2qIqBuMqHtUsFd</td>\n",
       "      <td>x (Deluxe Edition)</td>\n",
       "      <td>258986</td>\n",
       "      <td>False</td>\n",
       "      <td>87</td>\n",
       "    </tr>\n",
       "  </tbody>\n",
       "</table>\n",
       "</div>"
      ],
      "text/plain": [
       "                                    uri             title   artist_name  \\\n",
       "0  spotify:track:7zgqtptZvhf8GEmdsM2vp2  ...Ready For It?  Taylor Swift   \n",
       "1  spotify:track:4Vxu50qVrQcycjRyJQaZLC      Life Changes  Thomas Rhett   \n",
       "2  spotify:track:6b8Be6ljOzmkOmFslEb23P         24K Magic    Bruno Mars   \n",
       "3  spotify:track:0afhq8XCExXpqazXczTSve       Galway Girl    Ed Sheeran   \n",
       "4  spotify:track:1HNkqx9Ahdgi1Ixy2xkKkL        Photograph    Ed Sheeran   \n",
       "\n",
       "                artist_id                album_id          album_name  length  \\\n",
       "0  06HL4z0CvFAxyc27GXpf02  0HG8fMDhvN2tH5uPHFsyZP    ...Ready For It?  208198   \n",
       "1  6x2LnllRG5uGarZMsD4iO8  4w5Jvreahp3yvLqc4vCr9I        Life Changes  190226   \n",
       "2  0du5cEVh5yTK9QJze8zA0C  4PgleR09JVnm3zY1fW3XBA           24K Magic  225983   \n",
       "3  6eUKZXaKkcviH0Ku9w2n3V  3T4tUhGYeRNVUGevb0wThu          ÷ (Deluxe)  170826   \n",
       "4  6eUKZXaKkcviH0Ku9w2n3V  1xn54DMo2qIqBuMqHtUsFd  x (Deluxe Edition)  258986   \n",
       "\n",
       "   explicit  popularity  \n",
       "0     False           0  \n",
       "1     False          62  \n",
       "2     False          82  \n",
       "3     False          81  \n",
       "4     False          87  "
      ]
     },
     "execution_count": 28,
     "metadata": {},
     "output_type": "execute_result"
    }
   ],
   "source": [
    "df_songs.head()"
   ]
  },
  {
   "cell_type": "code",
   "execution_count": 29,
   "id": "6c2f092a",
   "metadata": {},
   "outputs": [],
   "source": [
    "def flatten_features(df):\n",
    "    \"\"\"\n",
    "    Flatten audio features data in a DataFrame.\n",
    "\n",
    "    This function takes a DataFrame containing audio features and flattens the data\n",
    "    by extracting specific audio feature values for each row and creating new columns\n",
    "    in the DataFrame with these values.\n",
    "\n",
    "    Args:\n",
    "        df (pd.DataFrame): The input DataFrame containing 'features' column.\n",
    "\n",
    "    Returns:\n",
    "        pd.DataFrame: A new DataFrame with flattened audio feature columns.\n",
    "        \n",
    "    \"\"\"\n",
    "    featurelist = []\n",
    "    for i in range(len(df['features'])):\n",
    "        try:\n",
    "            featurelist.append([\n",
    "            df['features'][i][0]['danceability'],\n",
    "            df['features'][i][0]['energy'],\n",
    "            df['features'][i][0]['key'],\n",
    "            df['features'][i][0]['loudness'],\n",
    "            df['features'][i][0]['mode'],\n",
    "            df['features'][i][0]['speechiness'],\n",
    "            df['features'][i][0]['acousticness'],\n",
    "            df['features'][i][0]['instrumentalness'],\n",
    "            df['features'][i][0]['liveness'],\n",
    "            df['features'][i][0]['valence'],\n",
    "            df['features'][i][0]['tempo']\n",
    "            ])\n",
    "        except:\n",
    "            featurelist.append([0,0,0,0,0,0,0,0,0,0,0])\n",
    "    featureframe = pd.DataFrame(featurelist,columns = ['danceability','energy','key','loudness','mode','speechiness','acousticness','instrumentalness','liveness','valence','tempo'] )\n",
    "    df = pd.concat([df,featureframe],axis = 1)\n",
    "    df = df.drop('features',axis = 1)\n",
    "    \n",
    "    return df"
   ]
  },
  {
   "cell_type": "code",
   "execution_count": 30,
   "id": "ddafcc9b",
   "metadata": {},
   "outputs": [],
   "source": [
    "# Testing the functions takes too long\n",
    "\n",
    "# df_songs2 = df_songs.copy()\n",
    "# df_test = flatten_features(df_songs)\n",
    "# df_test.head(5)"
   ]
  },
  {
   "cell_type": "markdown",
   "id": "90ade125",
   "metadata": {},
   "source": [
    "## Getting all songs"
   ]
  },
  {
   "cell_type": "code",
   "execution_count": 31,
   "id": "d7b503b9",
   "metadata": {},
   "outputs": [],
   "source": [
    "def get_playlist_tracks_features_to_dataframe(playlist_id):\n",
    "    \"\"\"\n",
    "    Retrieves tracks and their features from a Spotify playlist and returns them as a pandas DataFrame.\n",
    "\n",
    "    Args:\n",
    "    playlist_id (str): The Spotify ID of the playlist.\n",
    "\n",
    "    Returns:\n",
    "    pandas.DataFrame: A DataFrame containing track URI, title, artist name, artist ID, album ID, album name, length, explicit status, popularity, and audio features.\n",
    "    \"\"\"\n",
    "\n",
    "    # Initialize the final DataFrame\n",
    "    full_dataframe = pd.DataFrame()\n",
    "\n",
    "    # Retrieve the first group of songs from the playlist\n",
    "    results = sp.user_playlist_tracks(\"spotify\", playlist_id)\n",
    "\n",
    "    # Monitor progress\n",
    "    errorcount = 0\n",
    "    fetched = 100\n",
    "\n",
    "    # Process the first batch of songs\n",
    "    while results:\n",
    "        try:\n",
    "            # Extract data and convert it into a DataFrame\n",
    "            flat = get_tracks(results['items'])\n",
    "            resultframe = pd.DataFrame(data=flat, columns=['uri', 'title', 'artist_name', 'artist_id', 'album_id', 'album_name', 'length', 'explicit', 'popularity'])\n",
    "            \n",
    "            # Retrieve features of the songs\n",
    "            resultframe['features'] = resultframe['uri'].apply(get_features_delayed)\n",
    "            \n",
    "            # Flatten the features and add the results to the final DataFrame\n",
    "            resultframe = flatten_features(resultframe)\n",
    "            full_dataframe = full_dataframe.append(resultframe, ignore_index=True)\n",
    "            \n",
    "            # Move to the next batch of songs, if available\n",
    "            results = sp.next(results) if results['next'] else None\n",
    "\n",
    "            # Report progress\n",
    "            fetched += len(resultframe)\n",
    "            print(f'Fetched {fetched} out of {results[\"total\"]} ({100 * (fetched / results[\"total\"])}%)' if results else \"Fetch complete.\")\n",
    "\n",
    "        except Exception as e:\n",
    "            errorcount += 1\n",
    "            print(f'Error while fetching. # {errorcount}. Error: {e}')\n",
    "\n",
    "    return full_dataframe"
   ]
  },
  {
   "cell_type": "code",
   "execution_count": 32,
   "id": "abe297dc",
   "metadata": {},
   "outputs": [],
   "source": [
    "# Takes too long to check on this\n",
    "\n",
    "# Call the function with the playlist ID\n",
    "#playlist_id = '5S8SJdl1BDc0ugpkEvFsIL'\n",
    "#df_result = get_playlist_tracks_features_to_dataframe(playlist_id)\n",
    "\n",
    "# Display the head of the resulting DataFrame\n",
    "#df_result.head()"
   ]
  }
 ],
 "metadata": {
  "kernelspec": {
   "display_name": "Python 3 (ipykernel)",
   "language": "python",
   "name": "python3"
  },
  "language_info": {
   "codemirror_mode": {
    "name": "ipython",
    "version": 3
   },
   "file_extension": ".py",
   "mimetype": "text/x-python",
   "name": "python",
   "nbconvert_exporter": "python",
   "pygments_lexer": "ipython3",
   "version": "3.9.18"
  }
 },
 "nbformat": 4,
 "nbformat_minor": 5
}
